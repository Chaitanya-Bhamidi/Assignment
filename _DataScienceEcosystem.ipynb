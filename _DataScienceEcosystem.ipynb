{
 "cells": [
  {
   "cell_type": "markdown",
   "id": "eaaa6d5b-af18-4edd-9612-db80704e2d59",
   "metadata": {},
   "source": [
    "My NoteBook"
   ]
  },
  {
   "cell_type": "markdown",
   "id": "e397007f-d060-4977-92ca-37d9394f0a0e",
   "metadata": {},
   "source": [
    "This book is the final assignment project notebook  and has some codes"
   ]
  },
  {
   "cell_type": "markdown",
   "id": "bed67794-0138-44e9-9a1c-aea5f1ddb2c3",
   "metadata": {},
   "source": [
    "R\n",
    "SQL\n",
    "JAVA \n",
    "JULIA\n",
    "SCALA\n",
    "JAVA SCRIPT\n",
    "SWIFT"
   ]
  },
  {
   "cell_type": "markdown",
   "id": "48b8103f-4b4a-403c-8b66-f55dfa3cabe4",
   "metadata": {},
   "source": [
    "LIBRARIES ARE\n",
    "TENSER FLOW\n",
    "PyTORCH\n",
    "NumPy\n",
    "SciPy\n",
    "Pandas\n",
    "Matplotlib\n",
    "Keras\n",
    "SciKit-Learn\n",
    "PyTorch\n"
   ]
  },
  {
   "cell_type": "markdown",
   "id": "1c44363b-1f4e-4036-9a66-da39a2194c14",
   "metadata": {},
   "source": [
    "TOOLS ARE \n",
    "APACHE SPARK\n",
    "MATLAB\n",
    "APACHE HADOOP\n",
    "KNIME\n",
    "TENSER FLOW\n",
    "TABLEAU\n",
    "RAPID MINER\n",
    "\n"
   ]
  },
  {
   "cell_type": "markdown",
   "id": "bbc3191a-e02d-42fb-adc8-8e0024cfe0e9",
   "metadata": {},
   "source": [
    "Arithmetic Expression examples\n",
    "SUM---A+B\n",
    "SUBTRACTION---A-B\n",
    "MULTIPLICATION----A*B\n",
    "DIVISION------A/B"
   ]
  },
  {
   "cell_type": "code",
   "execution_count": 1,
   "id": "746117b6-5170-47af-8a3b-3a0760d8b5a7",
   "metadata": {
    "tags": []
   },
   "outputs": [
    {
     "name": "stdout",
     "output_type": "stream",
     "text": [
      "The result is: 52\n"
     ]
    }
   ],
   "source": [
    "\n",
    "num1 = 5\n",
    "num2 = 10\n",
    "num3 = 2\n",
    "\n",
    "result = (num1 * num2) + num3\n",
    "\n",
    "print(\"The result is:\", result)"
   ]
  },
  {
   "cell_type": "markdown",
   "id": "c5e3de10-0919-479d-a66e-fb17d2b5fecc",
   "metadata": {},
   "source": []
  },
  {
   "cell_type": "code",
   "execution_count": 2,
   "id": "7a8ef84d-7378-49b6-aa0a-76ab1f525cef",
   "metadata": {
    "tags": []
   },
   "outputs": [
    {
     "name": "stdout",
     "output_type": "stream",
     "text": [
      "120 minutes is equal to 2.0 hours.\n"
     ]
    }
   ],
   "source": [
    "def convert_minutes_to_hours(minutes):\n",
    "    hours = minutes / 60\n",
    "    return hours\n",
    "\n",
    "# Test the function\n",
    "minutes = 120\n",
    "hours = convert_minutes_to_hours(minutes)\n",
    "print(f\"{minutes} minutes is equal to {hours} hours.\")\n"
   ]
  },
  {
   "cell_type": "markdown",
   "id": "85b43a43-0144-4c50-8860-752c9a732680",
   "metadata": {},
   "source": [
    "<B>Objectives<B>:\n",
    "    <ul>\n",
    "<li>THE POPULAR LANGUAGES OF DATA SCIENCE</li>\n",
    " <li>THE POPULAR DS TOOLS </li>\n",
    " <li>THE POPULAR DS LIBRARIES</li>\n",
    "<li> MULTIPLICATION AND ADDITION OF TWO NUMBERS</li>\n",
    " <li>CONVERSION OF MINUTES INTO HOURS</li>\n",
    "    </ul>"
   ]
  },
  {
   "cell_type": "markdown",
   "id": "591d5765-64ba-4029-9dd9-649b18c8dff1",
   "metadata": {},
   "source": [
    "<h2>AUTHOR</h2>\n",
    "CHAITANYA\n"
   ]
  },
  {
   "cell_type": "code",
   "execution_count": null,
   "id": "0fea5e5b-a323-426e-a749-c8beda306f3b",
   "metadata": {},
   "outputs": [],
   "source": []
  }
 ],
 "metadata": {
  "kernelspec": {
   "display_name": "Python",
   "language": "python",
   "name": "conda-env-python-py"
  },
  "language_info": {
   "codemirror_mode": {
    "name": "ipython",
    "version": 3
   },
   "file_extension": ".py",
   "mimetype": "text/x-python",
   "name": "python",
   "nbconvert_exporter": "python",
   "pygments_lexer": "ipython3",
   "version": "3.7.12"
  }
 },
 "nbformat": 4,
 "nbformat_minor": 5
}
